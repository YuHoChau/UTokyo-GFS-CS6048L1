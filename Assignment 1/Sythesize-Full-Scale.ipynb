{
 "cells": [
  {
   "cell_type": "code",
   "execution_count": null,
   "metadata": {
    "collapsed": true
   },
   "outputs": [],
   "source": []
  },
  {
   "cell_type": "code",
   "execution_count": null,
   "outputs": [],
   "source": [
    "from osgeo import gdal\n",
    "import os\n",
    "import glob\n",
    "import numpy as np"
   ],
   "metadata": {
    "collapsed": false,
    "pycharm": {
     "name": "#%%\n"
    }
   }
  },
  {
   "cell_type": "code",
   "execution_count": null,
   "outputs": [],
   "source": [
    "def read_tiff(input_file):\n",
    "    \"\"\"\n",
    "    读取影像\n",
    "    :param input_file:输入影像\n",
    "    :return:波段数据，仿射变换参数，投影信息、行数、列数、波段数\n",
    "    \"\"\"\n",
    "\n",
    "    dataset = gdal.Open(input_file)\n",
    "    rows = dataset.RasterYSize\n",
    "    cols = dataset.RasterXSize\n",
    "\n",
    "    geo = dataset.GetGeoTransform()\n",
    "    proj = dataset.GetProjection()\n",
    "    couts = dataset.RasterCount\n",
    "    # if (satellite == 'wv3' or satellite == 'wv2') and couts == 8:\n",
    "    #     bands = [2,3,5,7] # b, g, r, nir\n",
    "    #     array_data = np.zeros((4,rows,cols))\n",
    "\n",
    "    #     for i in range(len(bands)):\n",
    "    #         band = dataset.GetRasterBand(bands[i])\n",
    "    #         array_data[i,:,:] = band.ReadAsArray()\n",
    "    #     couts = 4\n",
    "    # else:\n",
    "    array_data = dataset.ReadAsArray()\n",
    "\n",
    "    return array_data,geo,proj,rows,cols,couts"
   ],
   "metadata": {
    "collapsed": false,
    "pycharm": {
     "name": "#%%\n"
    }
   }
  },
  {
   "cell_type": "code",
   "execution_count": null,
   "outputs": [],
   "source": [
    "input_data_path = r'D:\\YourPath'\n",
    "input_pan_path = glob.glob(os.path.join(input_data_path, \"pan.tif\"))#r'./pan.tif'\n",
    "array_data,geo,proj,rows,cols,couts = read_tiff(input_pan_path[0])\n",
    "print(array_data.shape)"
   ],
   "metadata": {
    "collapsed": false,
    "pycharm": {
     "name": "#%%\n"
    }
   }
  },
  {
   "cell_type": "code",
   "execution_count": null,
   "outputs": [],
   "source": [
    "from PIL import Image\n",
    "im = Image.open(r'D:\\YourPath\\lr_red.tif')\n",
    "print(im.format, im.size, im.mode)\n",
    "im.show()"
   ],
   "metadata": {
    "collapsed": false,
    "pycharm": {
     "name": "#%%\n"
    }
   }
  },
  {
   "cell_type": "code",
   "execution_count": null,
   "outputs": [],
   "source": [
    "# -*- coding:utf-8 -*-\n",
    "import numpy as np\n",
    "from osgeo import gdal\n",
    "import os\n",
    "import sys\n",
    "# reload(sys)\n",
    "# sys.setdefaultencoding('utf8')\n",
    "\n",
    "#修改路径\n",
    "tifDir = r\"D:\\YourPath\"  #tif路径 单波段\n",
    "outtif = r\"D:\\YourPath\\mul.tif\"\n",
    "\n",
    "\n",
    "NP2GDAL_CONVERSION = {\n",
    "  \"uint8\": 1,\n",
    "  \"int8\": 1,\n",
    "  \"uint16\": 2,\n",
    "  \"int16\": 3,\n",
    "  \"uint32\": 4,\n",
    "  \"int32\": 5,\n",
    "  \"float32\": 6,\n",
    "  \"float64\": 7,\n",
    "  \"complex64\": 10,\n",
    "  \"complex128\": 11,\n",
    "}\n",
    "tifs = [i for i in os.listdir(tifDir) if i.endswith(\".tif\")]\n",
    "print(tifs)\n",
    "#获取投影波段数等信息\n",
    "bandsNum = len(tifs)\n",
    "dataset = gdal.Open(os.path.join(tifDir,tifs[0]))\n",
    "projinfo = dataset.GetProjection()\n",
    "geotransform = dataset.GetGeoTransform()\n",
    "cols,rows=dataset.RasterXSize,dataset.RasterYSize\n",
    "datatype=dataset.GetRasterBand(1).ReadAsArray(0,0,1,1).dtype.name\n",
    "print(cols, rows, datatype)\n",
    "gdaltype=NP2GDAL_CONVERSION[datatype]\n",
    "dataset=None\n",
    "#创建目标文件\n",
    "format = \"GTiff\" #tif格式\n",
    "format = \"ENVI\"  # ENVI格式\n",
    "driver = gdal.GetDriverByName(format)\n",
    "dst_ds = driver.Create(outtif,cols, rows, bandsNum, gdaltype)\n",
    "dst_ds.SetGeoTransform(geotransform)\n",
    "dst_ds.SetProjection(projinfo)\n",
    "#写入文件\n",
    "info = set()\n",
    "for k in range(bandsNum):\n",
    "    ds = gdal.Open(os.path.join(tifDir,tifs[k]))\n",
    "    X,Y = ds.RasterXSize,ds.RasterYSize\n",
    "    info.add(\"%s,%s\"%(X,Y))\n",
    "    if(len(info) != 1):\n",
    "        dst_ds = None\n",
    "        ds = None\n",
    "        print(\"%s 列数行数不一样：%s,%s\"%(tifs[k],X,Y))\n",
    "        raise Exception(\"有影像行列数不一致\")\n",
    "    data = ds.GetRasterBand(1).ReadAsArray()    ##读取第一波段\n",
    "    ds = None\n",
    "    dst_ds.GetRasterBand(k+1).WriteArray(data)\n",
    "    dst_ds.GetRasterBand(k+1).SetDescription(\"Band_%s\"%(k+1))\n",
    "\n",
    "    print(\"波段 %s ==> 文件 %s\"%(k+1,tifs[k]))\n",
    "dst_ds = None"
   ],
   "metadata": {
    "collapsed": false,
    "pycharm": {
     "name": "#%%\n"
    }
   }
  },
  {
   "cell_type": "code",
   "execution_count": null,
   "outputs": [],
   "source": [
    "import glob\n",
    "dirIn = r\"D:\\YourPath\"\n",
    "LRList = glob.glob(os.path.join(dirIn, '*.tif'))\n",
    "print(LRList)"
   ],
   "metadata": {
    "collapsed": false,
    "pycharm": {
     "name": "#%%\n"
    }
   }
  }
 ],
 "metadata": {
  "kernelspec": {
   "display_name": "Python 3",
   "language": "python",
   "name": "python3"
  },
  "language_info": {
   "codemirror_mode": {
    "name": "ipython",
    "version": 2
   },
   "file_extension": ".py",
   "mimetype": "text/x-python",
   "name": "python",
   "nbconvert_exporter": "python",
   "pygments_lexer": "ipython2",
   "version": "2.7.6"
  }
 },
 "nbformat": 4,
 "nbformat_minor": 0
}